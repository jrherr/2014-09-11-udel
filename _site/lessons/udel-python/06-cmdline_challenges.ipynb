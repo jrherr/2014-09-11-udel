{
 "metadata": {
  "name": "",
  "signature": "sha256:0905478b103ae7f1390c896b1c11fa7bd09bf9636c3f67d4230d08cefca08d0d"
 },
 "nbformat": 3,
 "nbformat_minor": 0,
 "worksheets": [
  {
   "cells": [
    {
     "cell_type": "markdown",
     "metadata": {
      "cell_tags": [
       "challenges"
      ]
     },
     "source": [
      "#### Challenges\n",
      "\n",
      "1.  Write a command-line program that does addition and subtraction:\n",
      "\n",
      "    ~~~\n",
      "    $ python arith.py 1 + 2\n",
      "    3\n",
      "    $ python arith.py 3 - 4\n",
      "    -1\n",
      "    ~~~\n",
      "\n",
      "    What goes wrong if you try to add multiplication using '*' to the program?\n",
      "\n",
      "2.  Using the `glob` module introduced [03-loop.ipynb](earlier),\n",
      "    write a simple version of `ls` that shows files in the current directory with a particular suffix:\n",
      "    \n",
      "    ~~~\n",
      "    $ python my_ls.py py\n",
      "    left.py\n",
      "    right.py\n",
      "    zero.py\n",
      "    ~~~"
     ]
    },
    {
     "cell_type": "markdown",
     "metadata": {
      "cell_tags": [
       "challenges"
      ]
     },
     "source": [
      "#### Challenges\n",
      "\n",
      "1.  Write a program called `check.py` that takes the names of one or more inflammation data files as arguments\n",
      "    and checks that all the files have the same number of rows and columns.\n",
      "    What is the best way to test your program?"
     ]
    },
    {
     "cell_type": "markdown",
     "metadata": {
      "cell_tags": [
       "challenges"
      ]
     },
     "source": [
      "#### Challenges\n",
      "\n",
      "1.  Rewrite this program so that it uses `-n`, `-m`, and `-x` instead of `--min`, `--mean`, and `--max` respectively.\n",
      "    Is the code easier to read?\n",
      "    Is the program easier to understand?\n",
      "\n",
      "2.  Separately,\n",
      "    modify the program so that if no parameters are given\n",
      "    (i.e., no action is specified and no filenames are given),\n",
      "    it prints a message explaining how it should be used.\n",
      "\n",
      "3.  Separately,\n",
      "    modify the program so that if no action is given\n",
      "    it displays the means of the data."
     ]
    },
    {
     "cell_type": "markdown",
     "metadata": {
      "cell_tags": [
       "challenges"
      ]
     },
     "source": [
      "#### Challenges\n",
      "\n",
      "1.  Write a program called `line-count.py` that works like the Unix `wc` command:\n",
      "    *   If no filenames are given, it reports the number of lines in standard input.\n",
      "    *   If one or more filenames are given, it reports the number of lines in each, followed by the total number of lines."
     ]
    }
   ],
   "metadata": {}
  }
 ]
}