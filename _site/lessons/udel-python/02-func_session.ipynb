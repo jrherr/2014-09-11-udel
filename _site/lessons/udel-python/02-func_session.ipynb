{
 "metadata": {
  "name": "",
  "signature": "sha256:98ebc4c9879b88224a24f54807259e847bccd180a416339d48ab1b9dd39729cb"
 },
 "nbformat": 3,
 "nbformat_minor": 0,
 "worksheets": [
  {
   "cells": [
    {
     "cell_type": "heading",
     "level": 2,
     "metadata": {
      "cell_tags": []
     },
     "source": [
      "Creating Functions"
     ]
    },
    {
     "cell_type": "markdown",
     "metadata": {
      "cell_tags": []
     },
     "source": [
      "If we only had one data set to analyze,\n",
      "it would probably be faster to load the file into a spreadsheet\n",
      "and use that to plot some simple statistics.\n",
      "But we have twelve files to check,\n",
      "and may have more in future.\n",
      "In this lesson,\n",
      "we'll learn how to write a function\n",
      "so that we can repeat several operations with a single command."
     ]
    },
    {
     "cell_type": "heading",
     "level": 3,
     "metadata": {
      "cell_tags": []
     },
     "source": [
      "Defining a Function"
     ]
    },
    {
     "cell_type": "markdown",
     "metadata": {
      "cell_tags": []
     },
     "source": [
      "Let's start by defining a function `fahr_to_kelvin` that converts temperatures from Fahrenheit to Kelvin:"
     ]
    },
    {
     "cell_type": "code",
     "collapsed": false,
     "input": [
      "def fahr_to_kelvin(temp):\n",
      "    return ((temp - 32) * (5/9)) + 273.15"
     ],
     "language": "python",
     "metadata": {
      "cell_tags": []
     },
     "outputs": []
    }
   ],
   "metadata": {}
  }
 ]
}