{
 "metadata": {
  "name": "",
  "signature": "sha256:47b80833cd00024bfb657e964effe6074dd1db99a6e1f2e5605278ee2fa76530"
 },
 "nbformat": 3,
 "nbformat_minor": 0,
 "worksheets": [
  {
   "cells": [
    {
     "cell_type": "markdown",
     "metadata": {},
     "source": [
      "#### Challenges\n",
      "\n",
      "1.  Python has a built-in function called `range` that creates a list of numbers:\n",
      "    `range(3)` produces `[0, 1, 2]`, `range(2, 5)` produces `[2, 3, 4]`, and `range(2, 10, 3)` produces `[2, 5, 8]`.\n",
      "    Using `range`,\n",
      "    write a function that prints the $N$ natural numbers:\n",
      "    \n",
      "    ~~~python\n",
      "    print_N(3)\n",
      "    1\n",
      "    2\n",
      "    3\n",
      "    ~~~\n",
      "\n",
      "1.  Exponentiation is built into Python:\n",
      "\n",
      "    ~~~python\n",
      "    print 5**3\n",
      "    125\n",
      "    ~~~\n",
      "    \n",
      "    It also has a function called `pow` that calculates the same value.\n",
      "    Write a function called `expo` that uses a loop to calculate the same result.\n",
      "\n",
      "1.  Write a function called `rev` that takes a string as input, and produces a new string with the characters in reverse order:\n",
      "    \n",
      "    ~~~python\n",
      "    print rev('Newton')\n",
      "    notweN\n",
      "    ~~~\n",
      "    \n",
      "    As always, be sure to include a docstring."
     ]
    },
    {
     "cell_type": "markdown",
     "metadata": {},
     "source": [
      "#### Challenges\n",
      "\n",
      "1.  Write a function called `total` that calculates the sum of the values in a list.\n",
      "    (Python has a built-in function called `sum` that does this for you.\n",
      "    Please don't use it for this exercise.)"
     ]
    },
    {
     "cell_type": "markdown",
     "metadata": {},
     "source": [
      "#### Challenges\n",
      "\n",
      "1.  Write a function called `analyze_all` that takes a filename pattern as its sole argument\n",
      "    and runs `analyze` for each file whose name matches the pattern."
     ]
    },
    {
     "cell_type": "code",
     "collapsed": false,
     "input": [],
     "language": "python",
     "metadata": {},
     "outputs": []
    }
   ],
   "metadata": {}
  }
 ]
}