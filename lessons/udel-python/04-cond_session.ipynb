{
 "metadata": {
  "name": "",
  "signature": "sha256:e57e842c498f0237f25ed66e08bbb8b4665d04a2b8ec16a521b20acbf02c132f"
 },
 "nbformat": 3,
 "nbformat_minor": 0,
 "worksheets": [
  {
   "cells": [
    {
     "cell_type": "heading",
     "level": 2,
     "metadata": {
      "cell_tags": []
     },
     "source": [
      "Making Choices"
     ]
    },
    {
     "cell_type": "markdown",
     "metadata": {
      "cell_tags": []
     },
     "source": [
      "Our previous lessons have shown us how to manipulate data,\n",
      "define our own functions,\n",
      "and repeat things.\n",
      "However,\n",
      "the programs we have written so far always do the same things,\n",
      "regardless of what data they're given.\n",
      "We want programs to make choices based on the values they are manipulating.\n",
      "To help us see what decisions they're making,\n",
      "we'll start by looking at how computers manipulate images."
     ]
    },
    {
     "cell_type": "heading",
     "level": 3,
     "metadata": {
      "cell_tags": []
     },
     "source": [
      "Image Grids"
     ]
    },
    {
     "cell_type": "markdown",
     "metadata": {
      "cell_tags": []
     },
     "source": [
      "Let's start by creating some simple heat maps of our own\n",
      "using a library called `ipythonblocks`.\n",
      "The first step is to create our own \"image\":"
     ]
    },
    {
     "cell_type": "code",
     "collapsed": false,
     "input": [
      "from ipythonblocks import ImageGrid"
     ],
     "language": "python",
     "metadata": {
      "cell_tags": []
     },
     "outputs": []
    }
   ],
   "metadata": {}
  }
 ]
}