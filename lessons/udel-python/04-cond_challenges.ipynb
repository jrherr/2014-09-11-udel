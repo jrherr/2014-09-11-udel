{
 "metadata": {
  "name": "",
  "signature": "sha256:e2f38105d7093037bf569f3402a37478df236afab6e590d78dad71f90238a45c"
 },
 "nbformat": 3,
 "nbformat_minor": 0,
 "worksheets": [
  {
   "cells": [
    {
     "cell_type": "markdown",
     "metadata": {},
     "source": [
      "#### Challenges\n",
      "\n",
      "1.  Fill in the `____` in the code below to create a bar that changes color from dark blue to black.\n",
      "\n",
      "    ~~~python\n",
      "    bar = ImageGrid(10, 1)\n",
      "    for x in range(10):\n",
      "        bar[x, 0] = (0, 0, ____)\n",
      "    bar.show()\n",
      "    ~~~\n",
      "\n",
      "2.  Why do computers use red, green, and blue as their primary colors?"
     ]
    },
    {
     "cell_type": "markdown",
     "metadata": {},
     "source": [
      "#### Challenges\n",
      "\n",
      "1.  `True` and `False` aren't the only values in Python that are true and false.\n",
      "    In fact, *any* value can be used in an `if` or `elif`.\n",
      "    After reading and running the code below,\n",
      "    explain what the rule is for which values are considered true and which are considered false.\n",
      "    (Note that if the body of a conditional is a single statement, we can write it on the same line as the `if`.)\n",
      "    \n",
      "    ~~~python\n",
      "    if '': print 'empty string is true'\n",
      "    if 'word': print 'word is true'\n",
      "    if []: print 'empty list is true'\n",
      "    if [1, 2, 3]: print 'non-empty list is true'\n",
      "    if 0: print 'zero is true'\n",
      "    if 1: print 'one is true'\n",
      "    ~~~\n",
      "\n",
      "2.  Write a function called `near` that returns `True` if its first parameter is within 10% of its second\n",
      "    and `False` otherwise.\n",
      "    Compare your implementation with your partner's:\n",
      "    do you return the same answer for all possible pairs of numbers?"
     ]
    },
    {
     "cell_type": "markdown",
     "metadata": {},
     "source": [
      "#### Challenges\n",
      "\n",
      "1.  Will changing the nesting of the loops in the code above&mdash;i.e.,\n",
      "    wrapping the Y-axis loop around the X-axis loop&mdash;change the final image?\n",
      "    Why or why not?\n",
      "\n",
      "2.  Python (and most other languages in the C family) provides [in-place operators](../../gloss.html#in-place-operator)\n",
      "    that work like this:\n",
      "    \n",
      "    ~~~python\n",
      "    x = 1  # original value\n",
      "    x += 1 # add one to x, assigning result back to x\n",
      "    x *= 3 # multiply x by 3\n",
      "    print x\n",
      "    6\n",
      "    ~~~\n",
      "    \n",
      "    Rewrite the code that sums the positive and negative numbers in a list\n",
      "    using in-place operators.\n",
      "    Do you think the result is more or less readable than the original?"
     ]
    },
    {
     "cell_type": "markdown",
     "metadata": {},
     "source": [
      "#### Challenges\n",
      "\n",
      "1.  Why did we transpose our data outside our heat map function?\n",
      "    Why not have the function perform the transpose?\n",
      "\n",
      "2.  Why does the heat map function return the grid rather than displaying it immediately?\n",
      "    Do you think this is a good or bad design choice?\n",
      "\n",
      "3.  Explain what the overall effect of this code is:\n",
      "\n",
      "    ~~~\n",
      "    temp = left\n",
      "    left = right\n",
      "    right = temp\n",
      "    ~~~\n",
      "    \n",
      "    Compare it to:\n",
      "    \n",
      "    ~~~\n",
      "    left, right = right, left\n",
      "    ~~~\n",
      "    \n",
      "    Do they always do the same thing?\n",
      "    Which do you find easier to read?"
     ]
    },
    {
     "cell_type": "code",
     "collapsed": false,
     "input": [],
     "language": "python",
     "metadata": {},
     "outputs": []
    }
   ],
   "metadata": {}
  }
 ]
}