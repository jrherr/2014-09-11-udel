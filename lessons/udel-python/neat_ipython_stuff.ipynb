{
 "metadata": {
  "name": "",
  "signature": "sha256:969e19d85ccbbe46721ceb01a3f7883ad886a67e6aa074708526f04b99bc593b"
 },
 "nbformat": 3,
 "nbformat_minor": 0,
 "worksheets": [
  {
   "cells": [
    {
     "cell_type": "code",
     "collapsed": false,
     "input": [
      "%matplotlib inline"
     ],
     "language": "python",
     "metadata": {},
     "outputs": [],
     "prompt_number": 5
    },
    {
     "cell_type": "code",
     "collapsed": false,
     "input": [
      "%load_ext rpy2.ipython"
     ],
     "language": "python",
     "metadata": {},
     "outputs": [
      {
       "output_type": "stream",
       "stream": "stdout",
       "text": [
        "The rpy2.ipython extension is already loaded. To reload it, use:\n",
        "  %reload_ext rpy2.ipython\n"
       ]
      }
     ],
     "prompt_number": 6
    },
    {
     "cell_type": "code",
     "collapsed": false,
     "input": [
      "import numpy as np\n",
      "import matplotlib.pyplot as plt\n",
      "X = np.linspace(0,10,20)\n",
      "Y = 5*np.linspace(0,10,20) + 3.0*np.random.normal(size=(20,))"
     ],
     "language": "python",
     "metadata": {},
     "outputs": [],
     "prompt_number": 7
    },
    {
     "cell_type": "code",
     "collapsed": false,
     "input": [
      "%%R -i X,Y\n",
      "\n",
      "xylm = lm(Y~X)\n",
      "print(summary(xylm))\n",
      "plot(Y~X, col=\"red\")\n",
      "abline(xylm)"
     ],
     "language": "python",
     "metadata": {},
     "outputs": [
      {
       "metadata": {},
       "output_type": "display_data",
       "text": [
        "\n",
        "Call:\n",
        "lm(formula = Y ~ X)\n",
        "\n",
        "Residuals:\n",
        "    Min      1Q  Median      3Q     Max \n",
        "-5.2457 -1.4104  0.0813  2.0991  4.7991 \n",
        "\n",
        "Coefficients:\n",
        "            Estimate Std. Error t value Pr(>|t|)    \n",
        "(Intercept)   2.9676     1.2245   2.423   0.0261 *  \n",
        "X             4.5898     0.2094  21.923 1.96e-14 ***\n",
        "---\n",
        "Signif. codes:  0 \u2018***\u2019 0.001 \u2018**\u2019 0.01 \u2018*\u2019 0.05 \u2018.\u2019 0.1 \u2018 \u2019 1\n",
        "\n",
        "Residual standard error: 2.841 on 18 degrees of freedom\n",
        "Multiple R-squared:  0.9639,\tAdjusted R-squared:  0.9619 \n",
        "F-statistic: 480.6 on 1 and 18 DF,  p-value: 1.963e-14\n",
        "\n"
       ]
      },
      {
       "metadata": {},
       "output_type": "display_data",
       "png": "[encoded data removed]"
      }
     ],
     "prompt_number": 8
    },
    {
     "cell_type": "code",
     "collapsed": false,
     "input": [
      "from IPython.html.widgets import interactive\n",
      "import ipythonblocks"
     ],
     "language": "python",
     "metadata": {},
     "outputs": [],
     "prompt_number": 9
    },
    {
     "cell_type": "code",
     "collapsed": false,
     "input": [
      "def colors(r,g,b):\n",
      "    ipythonblocks.show_color(r,g,b)\n",
      "    \n",
      "interactive(colors, r=(0,255), g=(0,255), b=(0,255))"
     ],
     "language": "python",
     "metadata": {},
     "outputs": [
      {
       "html": [
        "<div style=\"height: 60px; min-width: 200px; background-color: rgb(255, 160, 211)\"></div>"
       ],
       "metadata": {},
       "output_type": "display_data",
       "text": [
        "<IPython.core.display.HTML at 0x116dba550>"
       ]
      }
     ],
     "prompt_number": 10
    },
    {
     "cell_type": "code",
     "collapsed": false,
     "input": [
      "import mdtraj as md\n",
      "from mdtraj.html import TrajectoryView, enable_notebook"
     ],
     "language": "python",
     "metadata": {},
     "outputs": [],
     "prompt_number": 11
    },
    {
     "cell_type": "code",
     "collapsed": false,
     "input": [
      "traj = md.load_pdb(\"http://www.rcsb.org/pdb/files/1VYM.pdb\")"
     ],
     "language": "python",
     "metadata": {},
     "outputs": [],
     "prompt_number": 12
    },
    {
     "cell_type": "code",
     "collapsed": false,
     "input": [
      "enable_notebook()"
     ],
     "language": "python",
     "metadata": {},
     "outputs": [
      {
       "javascript": [
        "$(\"head\").append($(\"<link/>\").attr({\n",
        "  rel:  \"stylesheet\",\n",
        "  type: \"text/css\",\n",
        "  href: \"//lab.jakiestfu.com/contextjs/context.standalone.css\"\n",
        "}));\n",
        "\n",
        "require.config({\n",
        "    paths: {\n",
        "        'three': '//cdnjs.cloudflare.com/ajax/libs/three.js/r68/three.min',\n",
        "        'iview' : '/nbextensions/iview',\n",
        "        'surface' : '/nbextensions/surface.min',\n",
        "        'exporter' : '/nbextensions/objexporter',\n",
        "        'filesaver' : '/nbextensions/filesaver',\n",
        "        'jqueryui': '//ajax.googleapis.com/ajax/libs/jqueryui/1.11.1/jquery-ui.min',\n",
        "        'contextmenu': '/nbextensions/context',\n",
        "    },\n",
        "    shim: {\n",
        "        three: {\n",
        "            exports: 'THREE'\n",
        "        },\n",
        "        iview: {\n",
        "            deps: ['three', 'surface'],\n",
        "            exports: 'iview'\n",
        "        },\n",
        "        surface: {\n",
        "            exports: 'ProteinSurface'\n",
        "        },\n",
        "        exporter: {\n",
        "            deps: ['three'],\n",
        "            exports: 'THREE.OBJExporter'\n",
        "        },\n",
        "        jqueryui: {\n",
        "            exports: \"$\"\n",
        "        },\n",
        "    },\n",
        "});\n"
       ],
       "metadata": {},
       "output_type": "display_data",
       "text": [
        "<IPython.core.display.Javascript at 0x118c6f850>"
       ]
      },
      {
       "javascript": [
        "/*\n",
        "This script creates and registers the TrajectoryView widget on the\n",
        "browser side. Basically, it's a small div, with the iview molecule viewer (WebGL-based\n",
        "protein visualization) hooked in. Changes to the class on the python side\n",
        "propagate here and modify `this.model.attributes`, and re-call `update`.\n",
        "*/\n",
        "\n",
        "require([\n",
        "    \"jquery\",\n",
        "    \"widgets/js/widget\",\n",
        "    \"iview\",\n",
        "    \"exporter\",\n",
        "    \"filesaver\",\n",
        "    \"contextmenu\",\n",
        "    // only loaded, not used\n",
        "    'jqueryui',\n",
        "    ],\n",
        "\n",
        "function($, WidgetManager, iview) {\n",
        "    var HEIGHT = 300,\n",
        "        WIDTH = 300,\n",
        "        HEIGHT_PX = '300px',\n",
        "        WIDTH_PX = '300px';\n",
        "\n",
        "    var TrajectoryView = IPython.DOMWidgetView.extend({\n",
        "        render : function() {\n",
        "            var canvas = $(\"<canvas/>\").height(HEIGHT).width(WIDTH);\n",
        "            var iv = new iview(canvas);\n",
        "            var container = $('<div/>').css({width: HEIGHT_PX, height: WIDTH_PX})\n",
        "                .resizable({\n",
        "                    aspectRatio: 1,\n",
        "                    resize: function(event, ui) {\n",
        "                        iv.renderer.setSize(ui.size.width, ui.size.height);\n",
        "                    },\n",
        "\t\t    stop : function(event, ui) {\n",
        "\t\t\tiv.render()\n",
        "\t\t    },\n",
        "                });\n",
        "            container.append(canvas);\n",
        "            this.setElement(container);\n",
        "            this.iv = iv;\n",
        "            this.setupContextMenu(iv);\n",
        "            this.setupFullScreen(canvas, container);\n",
        "            this.update();\n",
        "            \n",
        "            // debugging\n",
        "            window.iv = this.iv;\n",
        "            window.model = this.model;\n",
        "        },\n",
        "\n",
        "        update : function () {\n",
        "            /* This could definitely be done more efficiently. Right now we're\n",
        "            just recreating and redrawing everything. For the (presumably)\n",
        "            common use case where you just want to update the positions to the\n",
        "            next frame in a trajectory, there's no real need to redefine the\n",
        "            topology and representation.\n",
        "            */\n",
        "\n",
        "            console.log('TrajectoryView.update');\n",
        "\n",
        "            this.iv.loadTopology(this.model.attributes._topology);\n",
        "            this.iv.loadCoordinates(this.model.attributes._frameData.coordinates);\n",
        "            this.iv.loadAtomAttributes(this.model.attributes._frameData.secondaryStructure);\n",
        "\n",
        "            var options = {\n",
        "                'camera': this.model.attributes.camera,\n",
        "                'background': this.model.attributes.background,\n",
        "                'colorBy': this.model.attributes.colorBy,\n",
        "                'primaryStructure': this.model.attributes.primaryStructure,\n",
        "                'secondaryStructure': this.model.attributes.secondaryStructure,\n",
        "                'surface': this.model.attributes.surfaceRepresentation\n",
        "            };\n",
        "            this.iv.zoomInto(options);\n",
        "\n",
        "            return TrajectoryView.__super__.update.apply(this);\n",
        "        },\n",
        "        \n",
        "        setupContextMenu : function(iv) {\n",
        "            context.init({preventDoubleContext: true});\n",
        "            var menu = [{header: 'Export as...'},\n",
        "                    {text: 'PNG',\n",
        "                    action: function () {\n",
        "                        var dataURL = iv.renderer.domElement.toDataURL('image/png');\n",
        "                        var data = atob( dataURL.substring( \"data:image/png;base64,\".length ) ),\n",
        "                                asArray = new Uint8Array(data.length);\n",
        "                        for( var i = 0, len = data.length; i < len; ++i ) {\n",
        "                                asArray[i] = data.charCodeAt(i);    \n",
        "                        }\n",
        "                        var blob = new Blob( [ asArray.buffer ], {type: \"image/png\"} );\n",
        "                        saveAs(blob,\"mol.png\")\n",
        "                    }\n",
        "                }, { \n",
        "                    text: 'OBJ',\n",
        "                    action: function () {\n",
        "                       var obj = '';\n",
        "                       var exporter = new THREE.OBJExporter();\n",
        "                       iv.mdl.children.forEach( function (object) {\n",
        "                           obj = obj + String(exporter.parse(object.geometry));\n",
        "                       });\n",
        "                       var blob = new Blob([obj], { type : \"text/obj;charset=utf-8\"});\n",
        "                       saveAs(blob, \"mol.obj\");\n",
        "                    }\n",
        "                }];\n",
        "            context.attach('canvas',menu)\n",
        "            \n",
        "        },\n",
        "\n",
        "        setupFullScreen : function(canvas, container) {\n",
        "            // currently only works in chrome. need other prefixes for firefox\n",
        "            var iv = this.iv;\n",
        "            canvas.dblclick(function () {\n",
        "            \tif ('webkitCancelFullScreen' in document) {\n",
        "                    if (!document.webkitIsFullScreen) {\n",
        "\t\t\tvar minHW = Math.min(screen.width, screen.height);\n",
        "                \tcanvas[0].webkitRequestFullScreen();\n",
        "                        iv.renderer.setSize(minHW, minHW);\n",
        "                        iv.render();\n",
        "                    }\n",
        "                } else if ('mozCancelFullScreen' in document) {\n",
        "                    if (!document.mozIsFullScreen) {\n",
        "                        var minHW = Math.min(screen.width, screen.height);\n",
        "                \tcanvas[0].mozRequestFullScreen();\n",
        "                        iv.renderer.setSize(minHW, minHW);\n",
        "                        iv.render();\n",
        "                    }\n",
        "\t\t}\n",
        "            });\n",
        "\n",
        "            if ('webkitCancelFullScreen' in document) {\n",
        "\t\tdocument.addEventListener(\"webkitfullscreenchange\", function() {\n",
        "                    if (!document.webkitIsFullScreen) {\n",
        "\t\t\tcontainer.css({width: HEIGHT_PX, height: WIDTH_PX});\n",
        "\t\t\tiv.renderer.setSize(WIDTH, HEIGHT);\n",
        "\t\t\tiv.render();\n",
        "                    }\n",
        "\t\t});\n",
        "\t    } else if ('mozCancelFullScreen' in document) {\n",
        "\t\tdocument.addEventListener(\"mozfullscreenchange\", function() {\n",
        "                    if (!document.mozIsFullScreen) {\n",
        "\t\t\tiv.renderer.setSize(WIDTH, HEIGHT);\n",
        "\t\t\tcontainer.css({width: HEIGHT_PX, height: WIDTH_PX});\n",
        "\t\t\tiv.render();\n",
        "\n",
        "                    }\n",
        "\t\t});\n",
        "\t    }\n",
        "        },\n",
        "    });\n",
        "\n",
        "\n",
        "    WidgetManager.register_widget_view('TrajectoryView', TrajectoryView);\n",
        "});\n"
       ],
       "metadata": {},
       "output_type": "display_data",
       "text": [
        "<IPython.core.display.Javascript at 0x118c6fed0>"
       ]
      },
      {
       "javascript": [
        "require([\"widgets/js/widget\"], function(WidgetManager){\n",
        "    var ImageButtonView = IPython.DOMWidgetView.extend({\n",
        "        render : function(){\n",
        "            // Called when view is rendered.\n",
        "            this.setElement($(\"<img />\"));\n",
        "            this.update(); // Set defaults.\n",
        "        },\n",
        "\n",
        "        update : function(){\n",
        "            // Update the contents of this view\n",
        "            //\n",
        "            // Called when the model is changed.  The model may have been \n",
        "            // changed by another view or by a state update from the back-end.\n",
        "            var image_src = 'data:image/' + this.model.get('format') + ';base64,' + this.model.get('_b64value');\n",
        "            console.log(this.model);\n",
        "            this.$el.attr('src', image_src);\n",
        "\n",
        "            var width = this.model.get('width');\n",
        "            if (width !== undefined && width.length > 0) {\n",
        "                this.$el.attr('width', width);\n",
        "            } else {\n",
        "                this.$el.removeAttr('width');\n",
        "            }\n",
        "            \n",
        "            var height = this.model.get('height');\n",
        "            if (height !== undefined && height.length > 0) {\n",
        "                this.$el.attr('height', height);\n",
        "            } else {\n",
        "                this.$el.removeAttr('height');\n",
        "            }\n",
        "            return ImageButtonView.__super__.update.apply(this);\n",
        "        },\n",
        "\n",
        "        events: {\n",
        "            // Dictionary of events and their handlers.\n",
        "            'click': '_handle_click',\n",
        "        },\n",
        "        \n",
        "        _handle_click: function(ev) {\n",
        "            // Handles when the button is clicked.\n",
        "            console.log(this.$el.offset());\n",
        "            var top = this.$el.offset().top;\n",
        "            var left = this.$el.offset().left;\n",
        "            var xAspect = this.$el.width() / this.$el[0].naturalWidth;\n",
        "            var yAspect = this.$el.height() / this.$el[0].naturalHeight;\n",
        "\n",
        "            \n",
        "            var x = (ev.pageX - left) / xAspect;\n",
        "            var y = (this.$el.height() - (ev.pageY - top)) / yAspect;\n",
        "            this.send({event: 'click', 'mouseX': x, 'mouseY': y});\n",
        "        },\n",
        "    });\n",
        "\n",
        "    // Register the DatePickerView with the widget manager.\n",
        "    WidgetManager.register_widget_view('ImageButtonView', ImageButtonView);\n",
        "});"
       ],
       "metadata": {},
       "output_type": "display_data",
       "text": [
        "<IPython.core.display.Javascript at 0x118c7ab10>"
       ]
      }
     ],
     "prompt_number": 13
    },
    {
     "cell_type": "code",
     "collapsed": false,
     "input": [
      "TrajectoryView(traj, secondaryStructure='ribbon')"
     ],
     "language": "python",
     "metadata": {},
     "outputs": [],
     "prompt_number": 14
    },
    {
     "cell_type": "code",
     "collapsed": false,
     "input": [],
     "language": "python",
     "metadata": {},
     "outputs": []
    }
   ],
   "metadata": {}
  }
 ]
}