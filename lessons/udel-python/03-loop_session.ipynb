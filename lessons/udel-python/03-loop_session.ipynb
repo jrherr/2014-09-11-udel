{
 "metadata": {
  "name": "",
  "signature": "sha256:f7a2b921357a5386cdd8241d79e14a0b275d1b5be0751a632adab7063c7550b7"
 },
 "nbformat": 3,
 "nbformat_minor": 0,
 "worksheets": [
  {
   "cells": [
    {
     "cell_type": "heading",
     "level": 2,
     "metadata": {
      "cell_tags": []
     },
     "source": [
      "Analyzing Multiple Data Sets"
     ]
    },
    {
     "cell_type": "markdown",
     "metadata": {
      "cell_tags": []
     },
     "source": [
      "We have created a function called `analyze` that creates graphs of the minimum, average, and maximum daily inflammation rates\n",
      "for a single data set:"
     ]
    },
    {
     "cell_type": "code",
     "collapsed": false,
     "input": [
      "%matplotlib inline\n",
      "\n",
      "import numpy as np\n",
      "from matplotlib import pyplot as plt\n",
      "\n",
      "def analyze(filename):\n",
      "    data = np.loadtxt(fname=filename, delimiter=',')\n",
      "    \n",
      "    plt.figure(figsize=(10.0, 3.0))\n",
      "    \n",
      "    plt.subplot(1, 3, 1)\n",
      "    plt.ylabel('average')\n",
      "    plt.plot(data.mean(0))\n",
      "    \n",
      "    plt.subplot(1, 3, 2)\n",
      "    plt.ylabel('max')\n",
      "    plt.plot(data.max(0))\n",
      "    \n",
      "    plt.subplot(1, 3, 3)\n",
      "    plt.ylabel('min')\n",
      "    plt.plot(data.min(0))\n",
      "    \n",
      "    plt.tight_layout()\n",
      "    plt.show()\n",
      "\n",
      "analyze('inflammation-01.csv')"
     ],
     "language": "python",
     "metadata": {
      "cell_tags": []
     },
     "outputs": []
    }
   ],
   "metadata": {}
  }
 ]
}