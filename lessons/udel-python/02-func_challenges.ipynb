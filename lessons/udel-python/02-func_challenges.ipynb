{
 "metadata": {
  "name": "",
  "signature": "sha256:182dd39ae6caa36e040b319ae0c556bd5f54775218b96be7c8e89444de78a435"
 },
 "nbformat": 3,
 "nbformat_minor": 0,
 "worksheets": [
  {
   "cells": [
    {
     "cell_type": "markdown",
     "metadata": {},
     "source": [
      "#### Challenges\n",
      "\n",
      "1.  \"Adding\" two strings produces their concatention:\n",
      "    `'a' + 'b'` is `'ab'`.\n",
      "    Write a function called `fence` that takes two parameters called `original` and `wrapper`\n",
      "    and returns a new string that has the wrapper character at the beginning and end of the original:\n",
      "\n",
      "    ~~~python\n",
      "    print fence('name', '*')\n",
      "    *name*\n",
      "    ~~~\n",
      "\n",
      "1.  If the variable `s` refers to a string,\n",
      "    then `s[0]` is the string's first character\n",
      "    and `s[-1]` is its last.\n",
      "    Write a function called `outer`\n",
      "    that returns a string made up of just the first and last characters of its input:\n",
      "\n",
      "    ~~~python\n",
      "    print outer('helium')\n",
      "    hm\n",
      "    ~~~"
     ]
    },
    {
     "cell_type": "markdown",
     "metadata": {},
     "source": [
      "#### Challenges\n",
      "\n",
      "1.  Write a function called `analyze` that takes a filename as a parameter\n",
      "    and displays the three graphs produced in the [previous lesson](01-numpy.ipynb),\n",
      "    i.e.,\n",
      "    `analyze('inflammation-01.csv')` should produce the graphs already shown,\n",
      "    while `analyze('inflammation-02.csv')` should produce corresponding graphs for the second data set.\n",
      "    Be sure to give your function a docstring.\n",
      "\n",
      "2.  Write a function `rescale` that takes an array as input\n",
      "    and returns a corresponding array of values scaled to lie in the range 0.0 to 1.0.\n",
      "    (If $L$ and $H$ are the lowest and highest values in the original array,\n",
      "    then the replacement for a value $v$ should be $(v-L) / (H-L)$.)\n",
      "    Be sure to give the function a docstring.\n",
      "\n",
      "3.  Run the commands `help(numpy.arange)` and `help(numpy.linspace)`\n",
      "    to see how to use these functions to generate regularly-spaced values,\n",
      "    then use those values to test your `rescale` function."
     ]
    },
    {
     "cell_type": "markdown",
     "metadata": {},
     "source": [
      "#### Challenges\n",
      "\n",
      "1.  Rewrite the `rescale` function so that it scales data to lie between 0.0 and 1.0 by default,\n",
      "    but will allow the caller to specify lower and upper bounds if they want.\n",
      "    Compare your implementation to your neighbor's:\n",
      "    do the two functions always behave the same way?"
     ]
    },
    {
     "cell_type": "code",
     "collapsed": false,
     "input": [],
     "language": "python",
     "metadata": {},
     "outputs": []
    }
   ],
   "metadata": {}
  }
 ]
}