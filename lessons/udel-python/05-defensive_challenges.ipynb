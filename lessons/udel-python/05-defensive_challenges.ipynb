{
 "metadata": {
  "name": "",
  "signature": "sha256:745c312a195ac1aa803a3205c33fc2c13b8e26b65ae09ce0973b5233de1f5fd6"
 },
 "nbformat": 3,
 "nbformat_minor": 0,
 "worksheets": [
  {
   "cells": [
    {
     "cell_type": "markdown",
     "metadata": {},
     "source": [
      "#### Challenges\n",
      "\n",
      "1. Suppose you are writing a function called `average` that calculates the average of the numbers in a list.\n",
      " What pre-conditions and post-conditions would you write for it?\n",
      " Compare your answer to your neighbor's:\n",
      " can you think of a function that will past your tests but not hers or vice versa?\n",
      "\n",
      "2. Explain in words what the assertions in this code check,\n",
      " and for each one,\n",
      " give an example of input that will make that assertion fail.\n",
      " \n",
      "  ~~~python\n",
      "  def running(values):\n",
      "      assert len(values) > 0\n",
      "      result = [values[0]]\n",
      "      for v in values[1:]:\n",
      "          assert result[-1] >= 0\n",
      "          result.append(result[-1] + v)\n",
      "          assert result[-1] >= result[0]\n",
      "      return result\n",
      "  ~~~"
     ]
    },
    {
     "cell_type": "markdown",
     "metadata": {},
     "source": [
      "#### Challenges\n",
      "\n",
      "1. Fix `range_overlap`. Re-run `test_range_overlap` after each change you make."
     ]
    },
    {
     "cell_type": "code",
     "collapsed": false,
     "input": [],
     "language": "python",
     "metadata": {},
     "outputs": []
    }
   ],
   "metadata": {}
  }
 ]
}