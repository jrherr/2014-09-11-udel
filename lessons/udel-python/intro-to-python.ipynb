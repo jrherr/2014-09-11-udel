{
 "metadata": {
  "name": "",
  "signature": "sha256:01c4fad31b71032024c4a0eb41ec3001fb2248067128576c4aae8d0fdad0f0ab"
 },
 "nbformat": 3,
 "nbformat_minor": 0,
 "worksheets": [
  {
   "cells": [
    {
     "cell_type": "markdown",
     "metadata": {},
     "source": [
      "<img src=\"img/python-logo-master-v3-TM.png\"/>\n",
      "\n",
      "##Python is a free, open-source, general purpose programming language that is widely used across many scientific and engineering disciplines. \n",
      "\n",
      "## Why are we teaching Python?\n",
      "\n",
      "- Free and cross platform\n",
      "- Easier to learn than many languages\n",
      "- Has a large number of powerful libraries available that for scientific and data analysis"
     ]
    },
    {
     "cell_type": "markdown",
     "metadata": {},
     "source": [
      "## A taste of the Python Scientific Stack\n",
      "\n",
      "<img src=\"img/ecosystem.001.png\" width=\"85%\" height=\"85%\"/>"
     ]
    },
    {
     "cell_type": "markdown",
     "metadata": {},
     "source": [
      "---------------------------------------------------------\n",
      "\n",
      "## I can't teach you an entire programming language in two days or delve deeply into any particular library, but I have the following goals:\n",
      "\n",
      "- ###Introduce some of the fundamental concepts necessary to undestand how python and programs works\n",
      "- ###Teach you how to thoughtly build code to solve problems\n",
      "- ###Give you the resources to continue teaching yourself"
     ]
    },
    {
     "cell_type": "code",
     "collapsed": false,
     "input": [],
     "language": "python",
     "metadata": {},
     "outputs": []
    }
   ],
   "metadata": {}
  }
 ]
}