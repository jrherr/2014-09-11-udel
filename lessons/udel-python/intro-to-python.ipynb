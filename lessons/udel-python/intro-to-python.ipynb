{
 "metadata": {
  "name": "",
  "signature": "sha256:298b3cf7812c726a320abe5a9ce4915cf916c4c8fe8e1c46e10bd2ee034de9c0"
 },
 "nbformat": 3,
 "nbformat_minor": 0,
 "worksheets": [
  {
   "cells": [
    {
     "cell_type": "markdown",
     "metadata": {},
     "source": [
      "<img src=\"img/python-logo-master-v3-TM.png\"/>\n",
      "\n",
      "##Python is a free, open-source general purpose programming language that is widely used across many scientific and engineering disciplines. \n",
      "\n",
      "So for those of you who have never encountered Python before, what is it? Python is a programming language which is used to:\n",
      "\n",
      "- develop analysis pipelines\n",
      "- process and analyse data\n",
      "- visualise data, and generate publication quality graphics\n",
      "- develop new statistical methods\n",
      "\n",
      "It is also a free open-source project, making it completely free to download and extend.\n",
      "\n",
      "## We teach it for all of these reasons, and because it is easier to learn than many other languages"
     ]
    },
    {
     "cell_type": "markdown",
     "metadata": {},
     "source": [
      "## A taste of the Python Scientific Stack\n",
      "\n",
      "<img src=\"img/ecosystem.001.png\" width=\"85%\" height=\"85%\"/>"
     ]
    },
    {
     "cell_type": "markdown",
     "metadata": {},
     "source": [
      "---------------------------------------------------------\n",
      "\n",
      "## I can't teach you an entire programming language in two days or delve deeply into any particular library, but I have the following goals:\n",
      "\n",
      "- ###Introduce some of the fundamental concepts necessary to undestand how python and programs works\n",
      "- ###Teach you how to thoughtly build code to solve problems\n",
      "- ###Give you the resources to continue teaching yourself"
     ]
    },
    {
     "cell_type": "code",
     "collapsed": false,
     "input": [],
     "language": "python",
     "metadata": {},
     "outputs": []
    }
   ],
   "metadata": {}
  }
 ]
}