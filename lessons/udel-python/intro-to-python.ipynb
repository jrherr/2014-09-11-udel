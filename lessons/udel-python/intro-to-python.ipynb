{
 "metadata": {
  "name": "",
  "signature": "sha256:cf273a6b80bf0e9187ae97731d352e5fb0b66554de009c68a671eb4cfcfa6418"
 },
 "nbformat": 3,
 "nbformat_minor": 0,
 "worksheets": [
  {
   "cells": [
    {
     "cell_type": "markdown",
     "metadata": {},
     "source": [
      "<img src=\"img/python-logo-master-v3-TM.png\"/>\n",
      "\n",
      "##Python is a free, open-source general purpose programming language that is widely used across many scientific and engineering disciplines. \n",
      "\n",
      "\n",
      "<font size=\"4\">So for those of you who have never encountered Python before, what is it? Python is a programming language which is used to:\n",
      "\n",
      "- build data generation and analysis pipelines\n",
      "- model biological and physical phenomena\n",
      "- visualise data and generate publication quality graphics\n",
      "- develop new methods and tools\n",
      "- Anything really (almost)\n",
      "\n",
      "<img src=\"img/xkcd_python.png\"/>\n",
      "</font>\n",
      "http://xkcd.com/353/\n",
      "\n",
      "## We teach it for all of these reasons, and because it is easier to learn than many other languages"
     ]
    },
    {
     "cell_type": "markdown",
     "metadata": {},
     "source": [
      "## A taste of the Python Scientific Stack\n",
      "\n",
      "<img src=\"img/ecosystem.001.png\" width=\"85%\" height=\"85%\"/>"
     ]
    },
    {
     "cell_type": "markdown",
     "metadata": {},
     "source": [
      "---------------------------------------------------------\n",
      "\n",
      "## I can't teach you an entire programming language in two days or delve deeply into any particular library, but I have the following goals:\n",
      "\n",
      "- ###Introduce some of the fundamental concepts necessary to undestand how python and programs works\n",
      "- ###Teach you how to thoughtly build code to solve problems\n",
      "- ###Give you the resources to continue teaching yourself"
     ]
    },
    {
     "cell_type": "code",
     "collapsed": false,
     "input": [],
     "language": "python",
     "metadata": {},
     "outputs": []
    }
   ],
   "metadata": {}
  }
 ]
}