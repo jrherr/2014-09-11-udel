{
 "metadata": {
  "name": "",
  "signature": "sha256:eb15c7657c1aff185c0a6e3f0841da864ab7d72e98ce07680cdb2d50a78f782b"
 },
 "nbformat": 3,
 "nbformat_minor": 0,
 "worksheets": [
  {
   "cells": [
    {
     "cell_type": "heading",
     "level": 2,
     "metadata": {
      "cell_tags": []
     },
     "source": [
      "Command-Line Programs"
     ]
    },
    {
     "cell_type": "markdown",
     "metadata": {
      "cell_tags": []
     },
     "source": [
      "The IPython Notebook and other interactive tools are great for prototyping code and exploring data,\n",
      "but sooner or later we will want to use our program in a pipeline\n",
      "or run it in a shell script to process thousands of data files.\n",
      "In order to do that,\n",
      "we need to make our programs work like other Unix command-line tools.\n",
      "For example,\n",
      "we may want a program that reads a data set\n",
      "and prints the average inflammation per patient:\n",
      "\n",
      "~~~\n",
      "$ python readings.py --mean inflammation-01.csv\n",
      "5.45\n",
      "5.425\n",
      "6.1\n",
      "...\n",
      "6.4\n",
      "7.05\n",
      "5.9\n",
      "~~~\n",
      "\n",
      "but we might also want to look at the minimum of the first four lines\n",
      "\n",
      "~~~\n",
      "$ head -4 inflammation-01.csv | python readings.py --min\n",
      "~~~\n",
      "\n",
      "or the maximum inflammations in several files one after another:\n",
      "\n",
      "~~~\n",
      "$ python readings.py --max inflammation-*.csv\n",
      "~~~\n",
      "\n",
      "Our overall requirements are:\n",
      "\n",
      "1. If no filename is given on the command line, read data from [standard input](../../gloss.html#standard-input).\n",
      "2. If one or more filenames are given, read data from them and report statistics for each file separately.\n",
      "3. Use the `--min`, `--mean`, or `--max` flag to determine what statistic to print.\n",
      "\n",
      "To make this work,\n",
      "we need to know how to handle command-line arguments in a program,\n",
      "and how to get at standard input.\n",
      "We'll tackle these questions in turn below."
     ]
    },
    {
     "cell_type": "heading",
     "level": 3,
     "metadata": {
      "cell_tags": []
     },
     "source": [
      "Command-Line Arguments"
     ]
    }
   ],
   "metadata": {}
  }
 ]
}