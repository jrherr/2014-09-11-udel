{
 "metadata": {
  "name": ""
 },
 "nbformat": 3,
 "nbformat_minor": 0,
 "worksheets": [
  {
   "cells": [
    {
     "cell_type": "markdown",
     "metadata": {},
     "source": [
      "## Unit Testing with Nose in Python\n",
      "\n",
      "We are attempting to test Python code which takes a DNA sequence (string data) as an input and then correcly calculates the 'GC' fraction in this DNA sequence.  DNA is usually only \"A, G, C, T\" but may contain other characters.  'GC' content is a frequent metric to measure the certain aspects of genetic data.  We are trying to make sure that the function calc_gc properly calculates the 'GC' fraction of the DNA sequence.\n",
      "\n",
      "Some problems that may arise in the input argument may include --\n",
      "\n",
      "* The input string may contain 'N's\n",
      "* The input string may contain lowercase characters\n",
      "* The imput string may be divided by zero for sequences with no A, T, C, G"
     ]
    },
    {
     "cell_type": "code",
     "collapsed": false,
     "input": [
      "%%file calc_gc.py\n",
      "def calc_gc(sequence):\n",
      "    sequence = sequence.upper()                    # make all chars uppercase\n",
      "    n = sequence.count('T') + sequence.count('A')  # count only A, T,\n",
      "    m = sequence.count('G') + sequence.count('C')  # C, and G -- nothing else (no Ns, Rs, Ws, etc.)\n",
      "    if n + m == 0:\n",
      "        return 0.                                  # avoid divide-by-zero\n",
      "    return float(m) / float(n + m)\n",
      "\n",
      "def test_1():\n",
      "    result = round(calc_gc('ATGGCAT'), 2)\n",
      "    print 'hello, this is a test; the value of result is', result\n",
      "    assert result == 0.43\n",
      "    \n",
      "def test_2(): # test handling N\n",
      "    result = round(calc_gc('NATGC'), 2)\n",
      "    assert result == 0.5, result\n",
      "    \n",
      "def test_3(): # test handling lowercase\n",
      "    result = round(calc_gc('natgc'), 2)\n",
      "    assert result == 0.5, result\n"
     ],
     "language": "python",
     "metadata": {},
     "outputs": [
      {
       "output_type": "stream",
       "stream": "stdout",
       "text": [
        "Overwriting calc_gc.py\n"
       ]
      }
     ],
     "prompt_number": 46
    },
    {
     "cell_type": "markdown",
     "metadata": {},
     "source": [
      "## Running nosetests\n",
      "\n",
      "Here, the 'nosetests' command looks through <code>calc_gc.py</code>, finds all functions named <code>test</code>, and runs them."
     ]
    },
    {
     "cell_type": "code",
     "collapsed": false,
     "input": [
      "!nosetests calc_gc.py"
     ],
     "language": "python",
     "metadata": {},
     "outputs": [
      {
       "output_type": "stream",
       "stream": "stdout",
       "text": [
        "...\r\n",
        "----------------------------------------------------------------------\r\n",
        "Ran 3 tests in 0.001s\r\n",
        "\r\n",
        "OK\r\n"
       ]
      }
     ],
     "prompt_number": 47
    },
    {
     "cell_type": "markdown",
     "metadata": {},
     "source": [
      "You can also run nosetests with a '-v' option:"
     ]
    },
    {
     "cell_type": "code",
     "collapsed": false,
     "input": [
      "!nosetests -v calc_gc.py"
     ],
     "language": "python",
     "metadata": {},
     "outputs": [
      {
       "output_type": "stream",
       "stream": "stdout",
       "text": [
        "calc_gc.test_1 ... ok\r\n",
        "calc_gc.test_2 ... ok\r\n",
        "calc_gc.test_3 ... ok\r\n",
        "\r\n",
        "----------------------------------------------------------------------\r\n",
        "Ran 3 tests in 0.001s\r\n",
        "\r\n",
        "OK\r\n"
       ]
      }
     ],
     "prompt_number": 48
    },
    {
     "cell_type": "markdown",
     "metadata": {},
     "source": [
      "## Regression testing\n",
      "\n",
      "We're setting up some regression tests here.  This is where we're simply comparing the output of a previously run script with the output of that script that has been run right now.  We should expect to get the same answer from the script if we run on the same data.  In theory?\n",
      "\n",
      "This script calculates the average of the average GC content of each sequence in the file called 25k.fq.gz."
     ]
    },
    {
     "cell_type": "code",
     "collapsed": false,
     "input": [
      "%%file gc-of-seqs.py\n",
      "import sys\n",
      "import screed\n",
      "import calc_gc\n",
      "\n",
      "filename = sys.argv[1]    # take the sequence filename in from the command line\n",
      "total_gc = []\n",
      "for record in screed.open(filename):\n",
      "    gc = calc_gc.calc_gc(record.sequence)\n",
      "    total_gc.append(gc)\n",
      "    \n",
      "print sum(total_gc) / float(len(total_gc))"
     ],
     "language": "python",
     "metadata": {},
     "outputs": [
      {
       "output_type": "stream",
       "stream": "stdout",
       "text": [
        "Overwriting gc-of-seqs.py\n"
       ]
      }
     ],
     "prompt_number": 49
    },
    {
     "cell_type": "markdown",
     "metadata": {},
     "source": [
      "First we need to install the <code>screed</code> scripts.  You don't need to do this to see how this works, but if you want to try the tests, you'll need 'screed' (python toolbox for python DNA sequence analysis) for the original script."
     ]
    },
    {
     "cell_type": "code",
     "collapsed": false,
     "input": [
      "!pip install screed # you may need to sudo pip install screed or check that it is installed "
     ],
     "language": "python",
     "metadata": {},
     "outputs": [
      {
       "output_type": "stream",
       "stream": "stdout",
       "text": [
        "Requirement already satisfied (use --upgrade to upgrade): screed in /Users/josh/anaconda/lib/python2.7/site-packages\r\n",
        "Cleaning up...\r\n"
       ]
      }
     ],
     "prompt_number": 50
    },
    {
     "cell_type": "markdown",
     "metadata": {},
     "source": [
      "Then you need to test the script against some input data (using the file single_input.fastq)"
     ]
    },
    {
     "cell_type": "code",
     "collapsed": false,
     "input": [
      "# run the script and look at the output -- then write that output into the following file.\n",
      "!python gc-of-seqs.py single_input.fastq"
     ],
     "language": "python",
     "metadata": {},
     "outputs": [
      {
       "output_type": "stream",
       "stream": "stdout",
       "text": [
        "0.314606741573\r\n"
       ]
      }
     ],
     "prompt_number": 51
    },
    {
     "cell_type": "code",
     "collapsed": false,
     "input": [
      "%%file test_gc_script.py\n",
      "import subprocess\n",
      "\n",
      "correct_output = \"0.314606741573\\n\"   # this is taken from the previous exec'd cell\n",
      "\n",
      "# the following function checks to see if running this script at the command line\n",
      "# returns the right result. \n",
      "# Make sure you're running this from *within* the same directory as your input file \n",
      "# P.S. I noticed this was an issue yesterday\n",
      "\n",
      "def test_run():\n",
      "    p = subprocess.Popen('python gc-of-seqs.py single_input.fastq', shell=True, stdout=subprocess.PIPE)\n",
      "    (stdout, stderr) = p.communicate()\n",
      "    assert stdout == correct_output"
     ],
     "language": "python",
     "metadata": {},
     "outputs": [
      {
       "output_type": "stream",
       "stream": "stdout",
       "text": [
        "Overwriting test_gc_script.py\n"
       ]
      }
     ],
     "prompt_number": 52
    },
    {
     "cell_type": "code",
     "collapsed": false,
     "input": [
      "!nosetests test_gc_script.py"
     ],
     "language": "python",
     "metadata": {},
     "outputs": [
      {
       "output_type": "stream",
       "stream": "stdout",
       "text": [
        ".\r\n",
        "----------------------------------------------------------------------\r\n",
        "Ran 1 test in 0.051s\r\n",
        "\r\n",
        "OK\r\n"
       ]
      }
     ],
     "prompt_number": 53
    },
    {
     "cell_type": "code",
     "collapsed": false,
     "input": [
      "%%file test_gc_script.py\n",
      "import subprocess\n",
      "\n",
      "correct_output = \"0.9384758934759384\\n\"   # this is a test value\n",
      "\n",
      "def test_run():\n",
      "    p = subprocess.Popen('python gc-of-seqs.py single_input.fastq', shell=True, stdout=subprocess.PIPE)\n",
      "    (stdout, stderr) = p.communicate()\n",
      "    assert stdout == correct_output"
     ],
     "language": "python",
     "metadata": {},
     "outputs": [
      {
       "output_type": "stream",
       "stream": "stdout",
       "text": [
        "Overwriting test_gc_script.py\n"
       ]
      }
     ],
     "prompt_number": 54
    },
    {
     "cell_type": "code",
     "collapsed": false,
     "input": [
      "!nosetests test_gc_script.py"
     ],
     "language": "python",
     "metadata": {},
     "outputs": [
      {
       "output_type": "stream",
       "stream": "stdout",
       "text": [
        "F\r\n",
        "======================================================================\r\n",
        "FAIL: test_gc_script.test_run\r\n",
        "----------------------------------------------------------------------\r\n",
        "Traceback (most recent call last):\r\n",
        "  File \"/Users/josh/anaconda/lib/python2.7/site-packages/nose/case.py\", line 197, in runTest\r\n",
        "    self.test(*self.arg)\r\n",
        "  File \"/scripts/iPythonNotebook/test_gc_script.py\", line 8, in test_run\r\n",
        "    assert stdout == correct_output\r\n",
        "AssertionError\r\n",
        "\r\n",
        "----------------------------------------------------------------------\r\n",
        "Ran 1 test in 0.048s\r\n",
        "\r\n",
        "FAILED (failures=1)\r\n"
       ]
      }
     ],
     "prompt_number": 55
    },
    {
     "cell_type": "markdown",
     "metadata": {},
     "source": [
      "## Exercise"
     ]
    },
    {
     "cell_type": "markdown",
     "metadata": {},
     "source": [
      "Now let's try to do the same thing on the small python file you wrote yesterday to find the average of a number of inputs.  You'll have to have an understanding of the [nose documentation](https://nose.readthedocs.org/en/latest/usage.html)."
     ]
    },
    {
     "cell_type": "code",
     "collapsed": false,
     "input": [
      "# Hint: Here's some code to work from.  It may or may not be working correctly.\n",
      "\n",
      "def average(a,b,c,d,e):\n",
      "        mean = (a + b + c + d + e)/4.0\n",
      "        return mean"
     ],
     "language": "python",
     "metadata": {},
     "outputs": [],
     "prompt_number": 27
    },
    {
     "cell_type": "code",
     "collapsed": false,
     "input": [],
     "language": "python",
     "metadata": {},
     "outputs": []
    }
   ],
   "metadata": {}
  }
 ]
}